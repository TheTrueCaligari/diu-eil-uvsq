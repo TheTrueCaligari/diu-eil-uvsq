{
 "cells": [
  {
   "cell_type": "markdown",
   "metadata": {},
   "source": [
    "Structure d'un programme : indentation, blocs d'instructions, importations"
   ]
  },
  {
   "cell_type": "code",
   "execution_count": 8,
   "metadata": {},
   "outputs": [
    {
     "name": "stdout",
     "output_type": "stream",
     "text": [
      "a = (1.000000;2.000000:3.000000)\n",
      "b = (4.000000;5.000000:6.000000)\n",
      "a + b = (5.000000;7.000000:9.000000)\n"
     ]
    }
   ],
   "source": [
    "class Vecteur():\n",
    "    def __init__(self,x,y,z):\n",
    "        self.x = x\n",
    "        self.y = y\n",
    "        self.z = z\n",
    "        \n",
    "    def __str__(self):\n",
    "        return \"(%f;%f:%f)\" % (self.x,self.y,self.z)\n",
    "        \n",
    "    def __add__(self, other):\n",
    "        return Vecteur(self.x+other.x,self.y+other.y,self.z+other.z)\n",
    "    \n",
    "a = Vecteur(1,2,3)\n",
    "b = Vecteur(4,5,6)\n",
    "\n",
    "print(\"a =\", a)\n",
    "print(\"b =\", b)\n",
    "\n",
    "# a += b\n",
    "\n",
    "print(\"a + b =\", a+b)\n",
    "        "
   ]
  },
  {
   "cell_type": "code",
   "execution_count": null,
   "metadata": {},
   "outputs": [],
   "source": []
  }
 ],
 "metadata": {
  "kernelspec": {
   "display_name": "Python 3",
   "language": "python",
   "name": "python3"
  },
  "language_info": {
   "codemirror_mode": {
    "name": "ipython",
    "version": 3
   },
   "file_extension": ".py",
   "mimetype": "text/x-python",
   "name": "python",
   "nbconvert_exporter": "python",
   "pygments_lexer": "ipython3",
   "version": "3.7.3"
  }
 },
 "nbformat": 4,
 "nbformat_minor": 2
}
