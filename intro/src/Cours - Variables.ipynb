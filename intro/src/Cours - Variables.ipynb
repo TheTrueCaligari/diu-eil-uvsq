{
 "cells": [
  {
   "cell_type": "markdown",
   "metadata": {},
   "source": [
    "# Les variables\n",
    "\n",
    "## 1. Notion de variable\n",
    "\n",
    "Quand on écrit un programme, on est amené à manipuler des données.\n",
    "\n",
    "Par exemple, dans un jeu on peut avoir besoin de se rappeler du score du joueur, de son nombre de points de vie, etc... \\\n",
    "Ces informations pourront être \n",
    "\n",
    "- *lues* (par exemple pour les afficher à l'écran)\n",
    "\n",
    "- *écrites* (par exemple si le joueur a perdu un point de vie, il faut modifier la valeur stockée)\n",
    "\n",
    "Une variable peut être vue comme une \"boite\" et est constiuté de trois choses:\n",
    "\n",
    "- un *nom de variable* : c'est comme une étiquette collée sur la boite. Cela permet (quand on veut lire ou écrire des données) de dire où elles se trouvent.\n",
    "\n",
    "- un *type* : cela indique ce que la boite peut contenir. Cela sera détaillé au point 2.\n",
    "\n",
    "- une *valeur* : c'est le contenu de la boite, l'information proprement dite.\n",
    "\n",
    "<span style='color:red'>Choses importantes à retenir</span>\n",
    "\n",
    "- une variable ne peut stocker qu'une valeur à la fois et *il n'y a pas d'historique*. Si une variable contenait la valeur 10 et qu'on y écrit 50, le \"10\" est perdu et on ne peut pas dire \"reprend la valeur d'avant\" (sauf si on l'a notée quelque part, dans une *autre* variable)\n",
    "\n",
    "- le choix du nom de variable est important : il est préférable de choisir un nom court mais parlant.  \n",
    "  Par exemple pour stocker le score d'un joueur entre\n",
    "  `sj`, `score` et `le_score_du_joueur`, le second choix est le bon compromis : le premier\n",
    "  n'est pas assez parlant et le troisième est trop long à taper.\n",
    "\n",
    "\n",
    "## 2. Types de variable\n",
    "\n",
    "\n",
    "### Typage explicite\n",
    "\n",
    "Dans un langage comme le C, le type est explicite : on crée la variable en expliquant ce qu'on va y stocker.\n",
    "\n",
    "~~~cpp\n",
    "    int x;    // Création d'une variable de type *Entier*\n",
    "    float y;  // Création d'une variable de type *Nombre à virgule flottante*\n",
    "~~~\n",
    "\n",
    "### Typage implicite\n",
    "\n",
    "Dans un langage comme le python, le type est implicite : l'ordinateur \"devine\" quel est le type de la variable.\n",
    "\n",
    "~~~python\n",
    "    x = 3    # Python va créer une variable \"x\" qui sera de type *Entier*\n",
    "             #        puisqu'on y met 3 (qui est un entier)\n",
    "        \n",
    "    y = 1.4  # Python va créer une variable \"y\" qui sera de type *Nombre à virgule flottante*\n",
    "             #        puisqu'on y met 1.4 (qui est un réel)\n",
    "        \n",
    "    z = 3.0  # Python va créer une variable \"z\" qui sera de type *Nombre à virgule flottante*.\n",
    "             #        On a indiqué \"3 virgule 0\" : la virgule indique qu'on veut un nombre à virgule\n",
    "~~~"
   ]
  },
  {
   "cell_type": "code",
   "execution_count": 8,
   "metadata": {},
   "outputs": [
    {
     "name": "stdout",
     "output_type": "stream",
     "text": [
      "La variable est de type <class 'int'>\n",
      "La variable est de type <class 'float'>\n"
     ]
    }
   ],
   "source": [
    "def show(var):\n",
    "    t = type(var)\n",
    "    print( \"La variable est de type\", type(var))\n",
    "\n",
    "## Création d'une variable x de type Entier\n",
    "x = 3\n",
    "show(x)\n",
    "\n",
    "## Création d'une variable y de type Nombre à virgule flottante\n",
    "y = 3.0\n",
    "show(y)"
   ]
  },
  {
   "cell_type": "code",
   "execution_count": null,
   "metadata": {},
   "outputs": [],
   "source": []
  }
 ],
 "metadata": {
  "kernelspec": {
   "display_name": "Python 3",
   "language": "python",
   "name": "python3"
  },
  "language_info": {
   "codemirror_mode": {
    "name": "ipython",
    "version": 3
   },
   "file_extension": ".py",
   "mimetype": "text/x-python",
   "name": "python",
   "nbconvert_exporter": "python",
   "pygments_lexer": "ipython3",
   "version": "3.7.3"
  }
 },
 "nbformat": 4,
 "nbformat_minor": 2
}
