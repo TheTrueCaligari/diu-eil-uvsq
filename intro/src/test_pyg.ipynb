{
 "cells": [
  {
   "cell_type": "code",
   "execution_count": null,
   "metadata": {},
   "outputs": [
    {
     "name": "stdout",
     "output_type": "stream",
     "text": [
      "= PyGraphics v1.0rc=\n",
      "Création d'une fenêtre de 600x600\n"
     ]
    }
   ],
   "source": [
    "from pyg import *\n",
    "\n",
    "L = 600\n",
    "H = 600\n",
    "R = 10\n",
    "\n",
    "fenetre(L,H,\"Test\")\n",
    "affiche_auto_off()\n",
    "\n",
    "A = POINT(L/2,H/2)\n",
    "v = POINT(5,3)\n",
    "\n",
    "while True:\n",
    "    remplir_ecran(noir)\n",
    "    cercle_plein(A,R,rouge)\n",
    "    A += v\n",
    "    if A.x+R >= L:\n",
    "        A.x = L-R-1\n",
    "        v.x = -v.x\n",
    "    if A.x-R < 0:\n",
    "        A.x = R\n",
    "        v.x = -v.x\n",
    "    if A.y+R >= H:\n",
    "        A.y = H-R-1\n",
    "        v.y = -v.y\n",
    "    if A.y-R < 0:\n",
    "        A.y = R\n",
    "        v.y = -v.y\n",
    "        \n",
    "    affiche_tout()\n",
    "    attendre(20)"
   ]
  },
  {
   "cell_type": "code",
   "execution_count": null,
   "metadata": {},
   "outputs": [],
   "source": []
  }
 ],
 "metadata": {
  "kernelspec": {
   "display_name": "Python 3",
   "language": "python",
   "name": "python3"
  }
 },
 "nbformat": 4,
 "nbformat_minor": 2
}
